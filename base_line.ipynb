{
 "cells": [
  {
   "cell_type": "markdown",
   "source": [
    "Из [статьи](https://www.researchgate.net/publication/332242485_Angular_Softmax_Loss_for_End-to-end_Speaker_Verification) \"angular softmax speaker verification\" и еще [одной статьи](https://deepai.org/publication/deep-speaker-embeddings-for-far-field-speaker-recognition-on-short-utterances) \"Deep Speaker Embeddings for Speaker Recognition\" взяты параметры для достижения цели этого проекта:\n",
    "    features: MFFC - n_mel = 23, frame_length = 25ms, duration treck = 3s.\n",
    "    loss: AMSoftmax(s=3,m-0.35), ArcFace loss, ASoftmax(m = 3)\n",
    "    backend: cosine similarity\n",
    "\n",
    "Use layer TimeDistributed from [article](https://ru-keras.com/wrappers-sloi/)"
   ],
   "metadata": {
    "collapsed": false
   }
  },
  {
   "cell_type": "code",
   "execution_count": 1,
   "metadata": {
    "collapsed": true
   },
   "outputs": [],
   "source": [
    "#libs\n",
    "import tensorflow as tf\n",
    "import numpy as np\n",
    "import librosa\n",
    "import os\n",
    "import torch\n",
    "\n",
    "from loss_layers import AMSoftmax, ArcFace\n",
    "from pathlib import Path\n",
    "from natsort import natsorted\n",
    "from sklearn.model_selection import train_test_split\n",
    "from DataGen import DataGenerator\n",
    "from tensorflow.keras.models import Model, Sequential\n",
    "from tensorflow.keras.layers import Input, Dense, BatchNormalization, Conv1D, Conv2D, LSTM, Dropout,LeakyReLU, PReLU, Reshape, Bidirectional, TimeDistributed\n",
    "from tensorflow.keras.layers import MaxPooling1D, MaxPooling2D, Flatten, concatenate, GlobalAveragePooling1D, AveragePooling1D\n",
    "from tensorflow.keras.optimizers import Adam, RMSprop\n",
    "from tensorflow.keras.callbacks import ModelCheckpoint, EarlyStopping, ReduceLROnPlateau\n",
    "from tensorflow.keras.utils import to_categorical\n",
    "from tensorflow.keras import regularizers, initializers"
   ]
  },
  {
   "cell_type": "code",
   "execution_count": 2,
   "outputs": [
    {
     "name": "stdout",
     "output_type": "stream",
     "text": [
      "37776 9445\n"
     ]
    }
   ],
   "source": [
    "path = Path('C:\\\\datasets_from_D\\\\train_vox2_2half\\\\wav_vad\\\\0\\\\')\n",
    "all_audio = natsorted(list(path.rglob('*.wav')))\n",
    "# print(audio[:150])\n",
    "train_audio, test_audio = train_test_split(all_audio, test_size=0.2, random_state=42, shuffle=True)\n",
    "print(len(train_audio), len(test_audio))"
   ],
   "metadata": {
    "collapsed": false
   }
  },
  {
   "cell_type": "markdown",
   "source": [
    "Prepaire generic data for train"
   ],
   "metadata": {
    "collapsed": false
   }
  },
  {
   "cell_type": "code",
   "execution_count": 3,
   "outputs": [],
   "source": [
    "# data = DataGenerator(train_audio[:20])\n",
    "# d, cl = next(iter(data))\n",
    "# print(d.shape, cl)\n",
    "train_gen = DataGenerator(train_audio)\n",
    "val_gen = DataGenerator(test_audio)"
   ],
   "metadata": {
    "collapsed": false
   }
  },
  {
   "cell_type": "markdown",
   "source": [
    "## Model from article \"angular softmax speaker verification\"\n"
   ],
   "metadata": {
    "collapsed": false
   }
  },
  {
   "cell_type": "code",
   "execution_count": 14,
   "outputs": [
    {
     "name": "stdout",
     "output_type": "stream",
     "text": [
      "Model: \"model_5\"\n",
      "_________________________________________________________________\n",
      " Layer (type)                Output Shape              Param #   \n",
      "=================================================================\n",
      " input_7 (InputLayer)        [(None, 301, 23)]         0         \n",
      "                                                                 \n",
      " Conv_1 (Conv1D)             (None, 297, 23)           2668      \n",
      "                                                                 \n",
      " MP_1 (MaxPooling1D)         (None, 148, 23)           0         \n",
      "                                                                 \n",
      " time_distributed_30 (TimeDi  (None, 148, 512)         12288     \n",
      " stributed)                                                      \n",
      "                                                                 \n",
      " BN_1 (BatchNormalization)   (None, 148, 512)          2048      \n",
      "                                                                 \n",
      " Conv_2 (Conv1D)             (None, 146, 512)          786944    \n",
      "                                                                 \n",
      " MP_2 (MaxPooling1D)         (None, 73, 512)           0         \n",
      "                                                                 \n",
      " time_distributed_31 (TimeDi  (None, 73, 512)          262656    \n",
      " stributed)                                                      \n",
      "                                                                 \n",
      " BN_2 (BatchNormalization)   (None, 73, 512)           2048      \n",
      "                                                                 \n",
      " Conv_3 (Conv1D)             (None, 71, 512)           786944    \n",
      "                                                                 \n",
      " MP_3 (MaxPooling1D)         (None, 35, 512)           0         \n",
      "                                                                 \n",
      " time_distributed_32 (TimeDi  (None, 35, 512)          262656    \n",
      " stributed)                                                      \n",
      "                                                                 \n",
      " BN_3 (BatchNormalization)   (None, 35, 512)           2048      \n",
      "                                                                 \n",
      " Conv_4 (Conv1D)             (None, 35, 512)           262656    \n",
      "                                                                 \n",
      " MP_4 (MaxPooling1D)         (None, 17, 512)           0         \n",
      "                                                                 \n",
      " time_distributed_33 (TimeDi  (None, 17, 512)          262656    \n",
      " stributed)                                                      \n",
      "                                                                 \n",
      " BN_4 (BatchNormalization)   (None, 17, 512)           2048      \n",
      "                                                                 \n",
      " Conv_5 (Conv1D)             (None, 17, 1500)          769500    \n",
      "                                                                 \n",
      " time_distributed_34 (TimeDi  (None, 17, 1500)         2251500   \n",
      " stributed)                                                      \n",
      "                                                                 \n",
      " BN_5 (BatchNormalization)   (None, 17, 1500)          6000      \n",
      "                                                                 \n",
      " AVGP (AveragePooling1D)     (None, 8, 1500)           0         \n",
      "                                                                 \n",
      " Flt (Flatten)               (None, 12000)             0         \n",
      "                                                                 \n",
      " Drop_1 (Dropout)            (None, 12000)             0         \n",
      "                                                                 \n",
      " D_1 (Dense)                 (None, 3000)              36003000  \n",
      "                                                                 \n",
      " BN_6 (BatchNormalization)   (None, 3000)              12000     \n",
      "                                                                 \n",
      " D_2 (Dense)                 (None, 512)               1536000   \n",
      "                                                                 \n",
      " embed (Dense)               (None, 300)               153600    \n",
      "                                                                 \n",
      " AMSoftmax (AMSoftmax)       (None, 1000)              300000    \n",
      "                                                                 \n",
      "=================================================================\n",
      "Total params: 43,679,260\n",
      "Trainable params: 43,666,164\n",
      "Non-trainable params: 13,096\n",
      "_________________________________________________________________\n"
     ]
    }
   ],
   "source": [
    "#Если не  с работает: 1 -  применить рекурентные слои, 2 - применить Conv2D, 3 - изменить Amsoftmax layer на Arclayer, 4- Применить amsoftmax loss а не слой.\n",
    "from tensorflow.keras import regularizers\n",
    "def create(input_shape=(301, 23)):\n",
    "    input_1 = Input(shape=input_shape)\n",
    "\n",
    "\n",
    "    x = Conv1D(23, kernel_size=5, activation='relu', kernel_regularizer=regularizers.L1L2(l1=1e-5, l2=1e-4), name='Conv_1')(input_1)\n",
    "    x = MaxPooling1D(pool_size=2, name='MP_1')(x)\n",
    "    # x = Conv1D(128, kernel_size=3, activation='relu')(x)\n",
    "    #\n",
    "    # x = Conv1D(256, kernel_size=3, activation='relu')(x)\n",
    "    # x = LSTM(128, return_sequences=True)(x)\n",
    "    x = TimeDistributed(Dense(512, activation='relu', name=\"TD_1\"))(x)\n",
    "    x = BatchNormalization(momentum=0.99, name='BN_1')(x)\n",
    "    x = Conv1D(512, 3, activation='relu', kernel_regularizer=regularizers.L1L2(l1=1e-5, l2=1e-4), name='Conv_2')(x)\n",
    "    x = MaxPooling1D(pool_size=2, name='MP_2')(x)\n",
    "    x = TimeDistributed(Dense(512, activation='relu', name=\"TD_2\"))(x)\n",
    "    x = BatchNormalization(momentum=0.95, name='BN_2')(x)\n",
    "    x = Conv1D(512, 3, activation='relu', kernel_regularizer=regularizers.L1L2(l1=1e-5, l2=1e-4), name='Conv_3')(x)\n",
    "    x = MaxPooling1D(pool_size=2, name='MP_3')(x)\n",
    "    x = TimeDistributed(Dense(512, activation='relu', name=\"TD_3\"))(x)\n",
    "    x = BatchNormalization(momentum=0.99, name='BN_3')(x)\n",
    "    x = Conv1D(512, 1, activation='relu', kernel_regularizer=regularizers.L1L2(l1=1e-5, l2=1e-4), name='Conv_4')(x)\n",
    "    x = MaxPooling1D(pool_size=2, name='MP_4')(x)\n",
    "    x = TimeDistributed(Dense(512, activation='relu', name=\"TD_4\"))(x)\n",
    "    x = BatchNormalization(momentum=0.95, name='BN_4')(x)\n",
    "    x = Conv1D(1500, 1, activation='relu', kernel_regularizer=regularizers.L1L2(l1=1e-5, l2=1e-4), name='Conv_5')(x)\n",
    "    x = TimeDistributed(Dense(1500, activation='relu', name=\"TD_5\"))(x)\n",
    "    x = BatchNormalization(momentum=0.99, name='BN_5')(x)\n",
    "    x = AveragePooling1D(name='AVGP')(x)\n",
    "    x = Flatten(name='Flt')(x)\n",
    "    x = Dropout(0.5, name='Drop_1')(x)\n",
    "    x = Dense(3000, activation='relu', kernel_regularizer=regularizers.L1L2(l1=1e-5, l2=1e-4), name='D_1')(x)\n",
    "    x = BatchNormalization(momentum=0.95, name='BN_6')(x)\n",
    "    x = Dense(512, activation='relu', use_bias=False, kernel_regularizer=regularizers.L2(l2=1e-4), name='D_2')(x)\n",
    "    embed = Dense(300, activation='relu', name='embed', use_bias=False, kernel_regularizer=regularizers.L1L2(l1=1e-5, l2=1e-4))(x)\n",
    "    outputs = AMSoftmax(1000, s=35, m=0.63, kernel_regularizer=regularizers.L1L2(l1=1e-5, l2=1e-4), name='AMSoftmax')(embed)\n",
    "\n",
    "    model = Model(input_1, outputs)\n",
    "    model.compile(loss='categorical_crossentropy', optimizer=Adam(learning_rate=0.01), metrics=['accuracy'])\n",
    "\n",
    "    return model\n",
    "\n",
    "model = create()\n",
    "model.summary()"
   ],
   "metadata": {
    "collapsed": false
   }
  },
  {
   "cell_type": "code",
   "execution_count": 5,
   "outputs": [],
   "source": [
    "#Example TimeDistribute\n",
    "# inputs = tf.keras.Input(shape=(10, 128, 128, 3))\n",
    "# conv_2d_layer = tf.keras.layers.Conv2D(64, (3, 3))\n",
    "# outputs = tf.keras.layers.TimeDistributed(conv_2d_layer)(inputs)\n",
    "# outputs.shape\n"
   ],
   "metadata": {
    "collapsed": false
   }
  },
  {
   "cell_type": "markdown",
   "source": [
    "**Callbaxk**"
   ],
   "metadata": {
    "collapsed": false
   }
  },
  {
   "cell_type": "code",
   "execution_count": 15,
   "outputs": [],
   "source": [
    "sv_mod = ModelCheckpoint(\n",
    "    filepath = 'D:\\\\Andrey\\\\data\\\\weights\\\\ARC_mffc_img\\\\\\\n",
    "model_TDL\\\\modelTD_b128_301_23_0f_ohe_{epoch:02d}-loss-{loss:.4f}_val_los-{val_loss:.4f}.hdf5',\n",
    "    monitor = 'val_loss',\n",
    "    mode = 'min',\n",
    "    save_best_only = True\n",
    ")\n",
    "learning_rate_reduction = ReduceLROnPlateau(monitor='val_loss',\n",
    "                                            patience=6,\n",
    "                                            verbose=1,\n",
    "                                            factor=0.9,\n",
    "                                            min_lr=0.00001)"
   ],
   "metadata": {
    "collapsed": false
   }
  },
  {
   "cell_type": "markdown",
   "source": [
    "**train**"
   ],
   "metadata": {
    "collapsed": false
   }
  },
  {
   "cell_type": "code",
   "execution_count": null,
   "outputs": [
    {
     "name": "stdout",
     "output_type": "stream",
     "text": [
      "Epoch 1/100\n",
      "2276/2276 [==============================] - 629s 275ms/step - loss: 7.9872 - accuracy: 0.0046 - val_loss: 7.4668 - val_accuracy: 0.0015 - lr: 0.0100\n",
      "Epoch 2/100\n",
      "2276/2276 [==============================] - 592s 260ms/step - loss: 7.0156 - accuracy: 0.0079 - val_loss: 7.7422 - val_accuracy: 9.3695e-04 - lr: 0.0100\n",
      "Epoch 3/100\n",
      "2276/2276 [==============================] - ETA: 0s - loss: 7.0037 - accuracy: 0.0088"
     ]
    }
   ],
   "source": [
    "history = model.fit(train_gen,\n",
    "              epochs = 100,\n",
    "              validation_data = (val_gen),\n",
    "              callbacks = [sv_mod, learning_rate_reduction],\n",
    "              verbose = 1)"
   ],
   "metadata": {
    "collapsed": false,
    "pycharm": {
     "is_executing": true
    }
   }
  },
  {
   "cell_type": "code",
   "execution_count": 9,
   "outputs": [],
   "source": [
    "#model.save('D:\\Andrey\\data\\weights\\ARC_mffc_img\\model_TDL\\Model_weights.h5')"
   ],
   "metadata": {
    "collapsed": false
   }
  },
  {
   "cell_type": "code",
   "execution_count": 10,
   "outputs": [],
   "source": [
    "model.load_weights('D:\\Andrey\\data\\weights\\ARC_mffc_img\\model_TDL\\Model_weights.h5')"
   ],
   "metadata": {
    "collapsed": false
   }
  },
  {
   "cell_type": "code",
   "execution_count": null,
   "outputs": [],
   "source": [],
   "metadata": {
    "collapsed": false
   }
  }
 ],
 "metadata": {
  "kernelspec": {
   "display_name": "Python 3",
   "language": "python",
   "name": "python3"
  },
  "language_info": {
   "codemirror_mode": {
    "name": "ipython",
    "version": 2
   },
   "file_extension": ".py",
   "mimetype": "text/x-python",
   "name": "python",
   "nbconvert_exporter": "python",
   "pygments_lexer": "ipython2",
   "version": "2.7.6"
  }
 },
 "nbformat": 4,
 "nbformat_minor": 0
}
